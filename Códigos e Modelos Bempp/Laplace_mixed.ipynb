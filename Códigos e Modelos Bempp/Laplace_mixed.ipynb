{
 "cells": [
  {
   "cell_type": "code",
   "execution_count": 1,
   "metadata": {
    "collapsed": true
   },
   "outputs": [],
   "source": [
    "import bempp.api\n",
    "import numpy as np\n",
    "\n",
    "bempp.api.global_parameters.quadrature.medium.double_order = 4\n",
    "bempp.api.global_parameters.quadrature.far.double_order = 4"
   ]
  },
  {
   "cell_type": "code",
   "execution_count": 2,
   "metadata": {
    "collapsed": true
   },
   "outputs": [],
   "source": [
    "# Vértices do cubo\n",
    "XYZ = np.array([[0, 0, 0],\n",
    "                [1, 0, 0],\n",
    "                [0, 1, 0],\n",
    "                [1, 1, 0],\n",
    "                [0, 0, 1],\n",
    "                [1, 0, 1],\n",
    "                [0, 1, 1],\n",
    "                [1, 1, 1]])\n",
    "# Conectividade do cubo\n",
    "tri = np.array([[1,  4,  2],\n",
    "                 [1,   3, 4],\n",
    "                 [1,   6,  5],\n",
    "                 [1,   2,  6],\n",
    "                 [2,   8,   6],\n",
    "                 [2,   4, 8],\n",
    "                 [3,   8, 4],\n",
    "                 [3,  7,  8],\n",
    "                 [1,  7,   3],\n",
    "                 [1,  5,  7],\n",
    "                 [5,   8,  7],\n",
    "                 [5,  6,  8]]) - 1\n",
    "\n",
    "domain_index=np.array([1,1,2,2,3,3,4,4,5,5,6,6]) # Número das faces as quais os elementos pertencem\n",
    "\n",
    "# Passa os dados da malha para o Bempp\n",
    "grid= bempp.api.grid_from_element_data(XYZ.transpose(), tri.transpose(),domain_index) "
   ]
  },
  {
   "cell_type": "code",
   "execution_count": 3,
   "metadata": {
    "collapsed": true
   },
   "outputs": [],
   "source": [
    "dirichlet_segments = [1,6] # Faces do cubo com condições de contorno de Dirichlet\n",
    "neumann_segments = [2,3,4,5] # Faces do cubo com condições de contorno de Neumann"
   ]
  },
  {
   "cell_type": "code",
   "execution_count": 4,
   "metadata": {
    "collapsed": true
   },
   "outputs": [],
   "source": [
    "# Esta célula define as condições de contorno\n",
    "\n",
    "# Esta function define o valor das condições de contorno de dirichlet nas faces onde o pontencial é conhecido\n",
    "def dirichlet_data_fun(x,domain_index):\n",
    "    if(domain_index==1): # Condição de contorno na face 1 (temperatura = 0)\n",
    "        return 0\n",
    "    else: # Condição de contorno na face 6 (temperatura = 1)\n",
    "        return 1\n",
    "\n",
    "# Esta function define o valor das condições de contorno de neumann nas faces onde o fluxo é conhecido\n",
    "def neumann_data_fun(x):\n",
    "    return 0 # Valor da CDC em todas as faces laterais do cubo (fluxo nulo)\n"
   ]
  },
  {
   "cell_type": "code",
   "execution_count": 5,
   "metadata": {
    "collapsed": true
   },
   "outputs": [],
   "source": [
    "order_neumann = 0 # Ordem das funções de forma que interpolam o fluxo\n",
    "order_dirichlet = 1 # Ordem das funções de forma que interpolam o potencial\n",
    "\n",
    "# O espaço no Bempp tem a malha triangular (grid), o tipo de elemento sendo contínuo = P (polynomial) e descontínuo\n",
    "# igual a DP (discontinuous polinômio) e, por último, a ordem das funções de forma.\n",
    "\n",
    "# define o tipo de elemento que interpola fluxo (triangular descontínuo de ordem order_neumann)\n",
    "global_neumann_space = bempp.api.function_space(grid, \"DP\", order_neumann)\n",
    "\n",
    "# define o tipo de elemento que interpola potencial (triangular contínuo de ordem order_dirichlet)\n",
    "global_dirichlet_space = bempp.api.function_space(grid, \"P\", order_dirichlet)\n",
    "\n",
    "# o restante desta célula eu tenho dúvidas (está confuso o significado para mim). Parece que está redundante com\n",
    "# a próxima célula\n",
    "\n",
    "# Espaço que armazena as variáveis de fluxo desconhecidas (range) no domínio (onde se aplica os pontos fontes) \n",
    "# das condições de contorno de Dirichlet (equação integral de potencial)\n",
    "neumann_space_dirichlet_segment = bempp.api.function_space(\n",
    "    grid, \"DP\", order_neumann, domains=dirichlet_segments,\n",
    "    closed=True, element_on_segment=True)\n",
    "\n",
    "# Espaço que armazena as variáveis de fluxo desconhecidas (range) no domínio (onde se aplica os pontos fontes) \n",
    "# das condições de contorno de Neumann\n",
    "neumann_space_neumann_segment = bempp.api.function_space(\n",
    "    grid, \"DP\", order_neumann, domains=neumann_segments,\n",
    "    closed=False, element_on_segment=True, reference_point_on_segment=False)\n",
    "\n",
    "# Espaço que armazena as variáveis de dirichlet desconhecidas (range) no domínio (onde se aplica os pontos fontes) \n",
    "# das condições de contorno de Dirichlet\n",
    "dirichlet_space_dirichlet_segment = bempp.api.function_space(\n",
    "    grid, \"P\", order_dirichlet, domains=dirichlet_segments, closed=True)\n",
    "\n",
    "dirichlet_space_neumann_segment = bempp.api.function_space(\n",
    "    grid, \"P\", order_dirichlet, domains=neumann_segments, closed=False)\n",
    "\n",
    "dual_dirichlet_space = bempp.api.function_space(\n",
    "    grid, \"P\", order_dirichlet, domains=dirichlet_segments,\n",
    "    closed=True, strictly_on_segment=True)"
   ]
  },
  {
   "cell_type": "code",
   "execution_count": 7,
   "metadata": {
    "collapsed": true
   },
   "outputs": [],
   "source": [
    "# Estas são as 10 matrizes nas quais as matrizes H, G e suas derivadas são decompostas\n",
    "\n",
    "# Equação de pontencial (regular), pontos fontes nos elementos onde o potencial é conhecido\n",
    "# e elementos na região onde o potencial é conhecido. Slp = single layer potencial = matriz G\n",
    "# Fica no lado esquerdo da equação matricial\n",
    "slp_DD = bempp.api.operators.boundary.laplace.single_layer(\n",
    "    neumann_space_dirichlet_segment,\n",
    "    dirichlet_space_dirichlet_segment,\n",
    "    neumann_space_dirichlet_segment)  # used in \"blocked\"\n",
    "\n",
    "# Equação de pontencial (regular), pontos fontes nos elementos onde o potencial é conhecido\n",
    "# e elementos na região onde o fluxo é conhecido. dlp= double layer potencial = matriz H\n",
    "# Fica no lado esquerdo da equação matricial\n",
    "dlp_DN = bempp.api.operators.boundary.laplace.double_layer(\n",
    "    dirichlet_space_neumann_segment,\n",
    "    dirichlet_space_dirichlet_segment,\n",
    "    neumann_space_dirichlet_segment)  # used in \"blocked\"\n",
    "\n",
    "# Equação de fluxo (hipersingular), pontos fontes nos elementos onde o fluxo é conhecido\n",
    "# e elementos na região onde o potencial é conhecido. adlp = adjoint double layer potencial = derivada\n",
    "# da matriz G (matriz D)= transposta da matriz H\n",
    "# Fica no lado esquerdo da equação matricial\n",
    "adlp_ND = bempp.api.operators.boundary.laplace.adjoint_double_layer(\n",
    "    neumann_space_dirichlet_segment,\n",
    "    neumann_space_neumann_segment,\n",
    "    dirichlet_space_neumann_segment)  # used in \"blocked\"\n",
    "\n",
    "\n",
    "# Equação de fluxo (hipersingular), pontos fontes nos elementos onde o fluxo é conhecido\n",
    "# e elementos na região onde o fluxo é conhecido. hyp = hipersingular = derivada da matriz H (matriz S)\n",
    "# Fica no lado esquerdo da equação matricial\n",
    "hyp_NN = bempp.api.operators.boundary.laplace.hypersingular(\n",
    "    dirichlet_space_neumann_segment,\n",
    "    neumann_space_neumann_segment,\n",
    "    dirichlet_space_neumann_segment)  # used in \"blocked\"\n",
    "\n",
    "\n",
    "# Equação de pontencial (regular), pontos fontes nos elementos onde o potencial é conhecido\n",
    "# e elementos na região onde o fluxo é conhecido. Slp = single layer potencial = matriz G\n",
    "# Fica no lado direito da equação matricial\n",
    "slp_DN = bempp.api.operators.boundary.laplace.single_layer(\n",
    "    neumann_space_neumann_segment,\n",
    "    dirichlet_space_dirichlet_segment,\n",
    "    neumann_space_dirichlet_segment)  # not used in \"blocked\"\n",
    "\n",
    "\n",
    "# Equação de pontencial (regular), pontos fontes nos elementos onde o potencial é conhecido\n",
    "# e elementos na região onde o potencial é conhecido. dlp= double layer potencial = matriz H\n",
    "# Fica no lado direito da equação matricial\n",
    "dlp_DD = bempp.api.operators.boundary.laplace.double_layer(\n",
    "    dirichlet_space_dirichlet_segment,\n",
    "    dirichlet_space_dirichlet_segment,\n",
    "    neumann_space_dirichlet_segment)  # not used in \"blocked\"\n",
    "\n",
    "# Matriz de massa da equação de potencial, correpondente ao termo cij do método de colocação\n",
    "# Fica no lado direito da equação matricial\n",
    "id_DD = bempp.api.operators.boundary.sparse.identity(\n",
    "    dirichlet_space_dirichlet_segment,\n",
    "    dirichlet_space_dirichlet_segment,\n",
    "    neumann_space_dirichlet_segment)  # not used in \"blocked\"\n",
    "\n",
    "# Equação de fluxo (hipersingular), pontos fontes nos elementos onde o fluxo é conhecido\n",
    "# e elementos na região onde o fluxo é conhecido. adlp = adjoint double layer potencial = derivada\n",
    "# da matriz G (matriz D) = transposta da matriz H\n",
    "# Fica no lado direito da equação matricial\n",
    "adlp_NN = bempp.api.operators.boundary.laplace.adjoint_double_layer(\n",
    "    neumann_space_neumann_segment,\n",
    "    neumann_space_neumann_segment,\n",
    "    dirichlet_space_neumann_segment)  # not used in \"blocked\"\n",
    "\n",
    "# Matriz de massa da equação de fluxo, correpondente ao termo cij do método de colocação\n",
    "# Fica no lado direito da equação matricial\n",
    "id_NN = bempp.api.operators.boundary.sparse.identity(\n",
    "    neumann_space_neumann_segment,\n",
    "    neumann_space_neumann_segment,\n",
    "    dirichlet_space_neumann_segment)  # not used in \"blocked\"\n",
    "\n",
    "# Equação de fluxo (hipersingular), pontos fontes nos elementos onde o fluxo é conhecido\n",
    "# e elementos na região onde o potencial é conhecido. hyp = hipersingular = derivada da matriz H\n",
    "# Fica no lado esquerdo da equação matricial\n",
    "hyp_ND = bempp.api.operators.boundary.laplace.hypersingular(\n",
    "    dirichlet_space_dirichlet_segment,\n",
    "    neumann_space_neumann_segment,\n",
    "    dirichlet_space_neumann_segment)  # not used in \"blocked\"\n",
    "\n",
    "\n",
    "# Junta as 4 matrizes que ficam no lado esquerdo da equação matricial em apenas uma matriz\n",
    "blocked = bempp.api.BlockedOperator(2, 2)\n",
    "\n",
    "blocked[0, 0] = slp_DD\n",
    "blocked[0, 1] = -dlp_DN\n",
    "blocked[1, 0] = adlp_ND\n",
    "blocked[1, 1] = hyp_NN"
   ]
  },
  {
   "cell_type": "code",
   "execution_count": 8,
   "metadata": {},
   "outputs": [],
   "source": [
    "# Passa as condições de contorno para o Bempp\n",
    "\n",
    "def dirichlet_data(x, n, domain_index, res):\n",
    "    res[0] = dirichlet_data_fun(x,domain_index)\n",
    "\n",
    "def neumann_data(x, n, domain_index, res):\n",
    "    res[0] = neumann_data_fun(x)\n",
    "\n",
    "dirichlet_grid_fun = bempp.api.GridFunction(\n",
    "    dirichlet_space_dirichlet_segment,\n",
    "    fun=dirichlet_data, dual_space=dual_dirichlet_space)\n",
    "\n",
    "neumann_grid_fun = bempp.api.GridFunction(\n",
    "    neumann_space_neumann_segment,\n",
    "    fun=neumann_data, dual_space=dirichlet_space_neumann_segment)\n",
    "\n",
    "\n",
    "# Cria o dois vetores que compõe o lado direito da equação matricial. Só aqui os elementos \n",
    "# das matrizes do lado direito são efetivamente calculados (primeiro lugar onde as\n",
    "# funções implementadas em C++ são usadas)\n",
    "rhs_fun1 = (.5 * id_DD + dlp_DD) * dirichlet_grid_fun \\\n",
    "           - slp_DN * neumann_grid_fun\n",
    "rhs_fun2 = - hyp_ND * dirichlet_grid_fun \\\n",
    "           + (.5 * id_NN - adlp_NN) * neumann_grid_fun"
   ]
  },
  {
   "cell_type": "code",
   "execution_count": 9,
   "metadata": {
    "collapsed": true
   },
   "outputs": [],
   "source": [
    "# Cria o lado esquerdo e direito da equação\n",
    "\n",
    "lhs = blocked.weak_form() # Só agora os elementos das matrizes do lado esquerdo são calculados\n",
    "rhs = np.hstack([rhs_fun1.projections(neumann_space_dirichlet_segment), \n",
    "                 rhs_fun2.projections(dirichlet_space_neumann_segment)])\n",
    "from scipy.sparse.linalg import gmres\n",
    "x, info = gmres(lhs, rhs)"
   ]
  },
  {
   "cell_type": "code",
   "execution_count": 10,
   "metadata": {
    "collapsed": true
   },
   "outputs": [],
   "source": [
    "# Separa o que é fluxo do que é potencial\n",
    "\n",
    "nx0 = neumann_space_dirichlet_segment.global_dof_count\n",
    "\n",
    "# os primeiros nx0 elementos do vetor x são fluxos\n",
    "neumann_solution = bempp.api.GridFunction(\n",
    "    neumann_space_dirichlet_segment, coefficients=x[:nx0])\n",
    "# a partir do elementos nx0+1 do vetor x, são temperaturas calculadas\n",
    "dirichlet_solution = bempp.api.GridFunction(\n",
    "    dirichlet_space_neumann_segment, coefficients=x[nx0:])"
   ]
  },
  {
   "cell_type": "code",
   "execution_count": 11,
   "metadata": {},
   "outputs": [
    {
     "data": {
      "text/plain": [
       "4"
      ]
     },
     "execution_count": 11,
     "metadata": {},
     "output_type": "execute_result"
    }
   ],
   "source": [
    "# neste caso nx0 = 4, ou seja, todo o vetor x corresponde a fluxos desconhecidos\n",
    "nx0"
   ]
  },
  {
   "cell_type": "code",
   "execution_count": 12,
   "metadata": {
    "collapsed": true
   },
   "outputs": [],
   "source": [
    "# Necessário para plotar gráfico no Jupyter\n",
    "bempp.api.PLOT_BACKEND = \"ipython_notebook\""
   ]
  },
  {
   "cell_type": "code",
   "execution_count": 13,
   "metadata": {},
   "outputs": [
    {
     "data": {
      "application/vnd.jupyter.widget-view+json": {
       "model_id": "fb4b7aacd71e4611bf7bf0a144422ac4",
       "version_major": 2,
       "version_minor": 0
      },
      "text/plain": [
       "A Jupyter Widget"
      ]
     },
     "metadata": {},
     "output_type": "display_data"
    },
    {
     "data": {
      "application/vnd.jupyter.widget-view+json": {
       "model_id": "521661dc11524546823cc169295c0556",
       "version_major": 2,
       "version_minor": 0
      },
      "text/plain": [
       "A Jupyter Widget"
      ]
     },
     "metadata": {},
     "output_type": "display_data"
    }
   ],
   "source": [
    "# Pós-processamento\n",
    "\n",
    "neumann_imbedding_dirichlet_segment = \\\n",
    "    bempp.api.operators.boundary.sparse.identity(\n",
    "        neumann_space_dirichlet_segment,\n",
    "        global_neumann_space,\n",
    "        global_neumann_space)\n",
    "\n",
    "neumann_imbedding_neumann_segment = \\\n",
    "    bempp.api.operators.boundary.sparse.identity(\n",
    "        neumann_space_neumann_segment,\n",
    "        global_neumann_space,\n",
    "        global_neumann_space)\n",
    "\n",
    "dirichlet_imbedding_dirichlet_segment = \\\n",
    "    bempp.api.operators.boundary.sparse.identity(\n",
    "        dirichlet_space_dirichlet_segment,\n",
    "        global_dirichlet_space,\n",
    "        global_dirichlet_space)\n",
    "\n",
    "dirichlet_imbedding_neumann_segment = \\\n",
    "    bempp.api.operators.boundary.sparse.identity(\n",
    "        dirichlet_space_neumann_segment,\n",
    "        global_dirichlet_space,\n",
    "        global_dirichlet_space)\n",
    "\n",
    "dirichlet = (dirichlet_imbedding_dirichlet_segment * dirichlet_grid_fun +\n",
    "             dirichlet_imbedding_neumann_segment * dirichlet_solution)\n",
    "\n",
    "neumann = (neumann_imbedding_neumann_segment * neumann_grid_fun +\n",
    "           neumann_imbedding_dirichlet_segment * neumann_solution)\n",
    "\n",
    "dirichlet.plot()"
   ]
  },
  {
   "cell_type": "code",
   "execution_count": 13,
   "metadata": {},
   "outputs": [
    {
     "data": {
      "application/vnd.jupyter.widget-view+json": {
       "model_id": "b475269b5edf494194aa20b822953480",
       "version_major": 2,
       "version_minor": 0
      },
      "text/plain": [
       "A Jupyter Widget"
      ]
     },
     "metadata": {},
     "output_type": "display_data"
    },
    {
     "data": {
      "application/vnd.jupyter.widget-view+json": {
       "model_id": "985d8bb713f44774aeb9498b2f2f07a8",
       "version_major": 2,
       "version_minor": 0
      },
      "text/plain": [
       "A Jupyter Widget"
      ]
     },
     "metadata": {},
     "output_type": "display_data"
    }
   ],
   "source": [
    "neumann.plot()"
   ]
  },
  {
   "cell_type": "code",
   "execution_count": 17,
   "metadata": {
    "collapsed": true
   },
   "outputs": [],
   "source": [
    "# Eu criei esta célula para saber os valores de cada elemento das matrizes\n",
    "slp_DD_mat = bempp.api.as_matrix(slp_DD.weak_form())\n",
    "# dlp_DN_mat = bempp.api.as_matrix(dlp_DN.weak_form())\n",
    "adlp_ND_mat = bempp.api.as_matrix(adlp_ND.weak_form())\n",
    "# hyp_NN_mat = bempp.api.as_matrix(hyp_NN.weak_form())\n",
    "slp_DN_mat = bempp.api.as_matrix(slp_DN.weak_form())\n",
    "dlp_DD_mat = bempp.api.as_matrix(dlp_DD.weak_form())\n",
    "id_DD_mat = bempp.api.as_matrix(id_DD.weak_form())\n",
    "adlp_NN_mat = bempp.api.as_matrix(adlp_NN.weak_form())\n",
    "id_NN_mat = bempp.api.as_matrix(id_NN.weak_form())\n",
    "hyp_ND_mat = bempp.api.as_matrix(hyp_ND.weak_form())"
   ]
  },
  {
   "cell_type": "code",
   "execution_count": 26,
   "metadata": {},
   "outputs": [
    {
     "name": "stdout",
     "output_type": "stream",
     "text": [
      "[[ 0.07980854  0.03847765  0.01678227  0.01818665]\n",
      " [ 0.03847765  0.07980854  0.01818665  0.01678227]\n",
      " [ 0.01678227  0.01818665  0.07980854  0.03847765]\n",
      " [ 0.01818665  0.01678227  0.03847765  0.07980854]]\n"
     ]
    }
   ],
   "source": [
    "# Vou imprimir a matriz slp_DD_mat\n",
    "print(slp_DD_mat)"
   ]
  },
  {
   "cell_type": "code",
   "execution_count": 21,
   "metadata": {},
   "outputs": [
    {
     "name": "stdout",
     "output_type": "stream",
     "text": [
      "[-1.00052571 -1.00055716  1.00162618  1.00016268]\n"
     ]
    }
   ],
   "source": [
    "# Valore desconhecidos. Neste caso, todos são fluxos uma vez que todos os vértices do cubo tem\n",
    "# potenciais conhecidos\n",
    "print(x)"
   ]
  },
  {
   "cell_type": "code",
   "execution_count": 23,
   "metadata": {},
   "outputs": [
    {
     "name": "stdout",
     "output_type": "stream",
     "text": [
      "The grid has 12 elements.\n"
     ]
    }
   ],
   "source": [
    "# Print out the number of elements\n",
    "number_of_elements = grid.leaf_view.entity_count(0)\n",
    "print(\"The grid has {0} elements.\".format(number_of_elements))"
   ]
  },
  {
   "cell_type": "code",
   "execution_count": 24,
   "metadata": {},
   "outputs": [
    {
     "name": "stdout",
     "output_type": "stream",
     "text": [
      "Number of global neumann dofs: 12\n"
     ]
    }
   ],
   "source": [
    "# Número de dofs de neumann (conhecidos e desconhecidos). Neste caso 12 pois são 12 elementos constantes\n",
    "number_of_global_neumann_dofs = global_neumann_space.global_dof_count \n",
    "print(\"Number of global neumann dofs: {0}\".format(number_of_global_neumann_dofs))"
   ]
  },
  {
   "cell_type": "code",
   "execution_count": 25,
   "metadata": {},
   "outputs": [
    {
     "name": "stdout",
     "output_type": "stream",
     "text": [
      "Number of global dirichlet dofs: 8\n"
     ]
    }
   ],
   "source": [
    "# Número de dofs de dirichlet (conhecidos e desconhecidos). Neste caso 8 pois são 8 vértices \n",
    "# sendo que cada vértice é um nó\n",
    "number_of_global_dirichlet_dofs = global_dirichlet_space.global_dof_count\n",
    "print(\"Number of global dirichlet dofs: {0}\".format(number_of_global_dirichlet_dofs))"
   ]
  },
  {
   "cell_type": "code",
   "execution_count": 45,
   "metadata": {},
   "outputs": [
    {
     "name": "stdout",
     "output_type": "stream",
     "text": [
      "Matrix of global Neumann interpolation points: [[ 0.66666667  0.33333333  0.33333333  0.66666667  1.          1.\n",
      "   0.66666667  0.33333333  0.          0.          0.33333333  0.66666667]\n",
      " [ 0.33333333  0.66666667  0.          0.          0.33333333  0.66666667\n",
      "   1.          1.          0.66666667  0.33333333  0.66666667  0.33333333]\n",
      " [ 0.          0.          0.66666667  0.33333333  0.66666667  0.33333333\n",
      "   0.33333333  0.66666667  0.33333333  0.66666667  1.          1.        ]]\n"
     ]
    }
   ],
   "source": [
    "## Centroides dos elementos (onde o fluxo é calculado ou especificado)\n",
    "print(\"Matrix of global Neumann interpolation points: {0}\".format(global_neumann_space.global_dof_interpolation_points))"
   ]
  },
  {
   "cell_type": "code",
   "execution_count": 46,
   "metadata": {},
   "outputs": [
    {
     "name": "stdout",
     "output_type": "stream",
     "text": [
      "Matrix of normal directions at Neumann interpolation points: [[ 0.  0.  0.  0.  1.  1.  0.  0. -1. -1.  0.  0.]\n",
      " [ 0.  0. -1. -1.  0.  0.  1.  1.  0.  0.  0.  0.]\n",
      " [-1. -1.  0.  0.  0.  0.  0.  0.  0.  0.  1.  1.]]\n"
     ]
    }
   ],
   "source": [
    "# Vetores normais em cada um dos 12 elementos\n",
    "print(\"Matrix of normal directions at Neumann interpolation points: {0}\".format(global_neumann_space.global_dof_normals))"
   ]
  },
  {
   "cell_type": "code",
   "execution_count": 35,
   "metadata": {},
   "outputs": [
    {
     "name": "stdout",
     "output_type": "stream",
     "text": [
      "Corners: [[ 0.  1.  1.]\n",
      " [ 0.  1.  0.]\n",
      " [ 0.  0.  0.]]\n",
      "Area: 0.5\n"
     ]
    }
   ],
   "source": [
    "# Mostra os vértices e as áreas de um elemento específico, no caso o primeiro elemento\n",
    "corners = elements[0].geometry.corners\n",
    "area = elements[0].geometry.volume\n",
    "print(\"Corners: {0}\".format(corners))\n",
    "print(\"Area: {0}\".format(area))"
   ]
  },
  {
   "cell_type": "code",
   "execution_count": 39,
   "metadata": {},
   "outputs": [
    {
     "data": {
      "text/plain": [
       "array([  4.82705663e-17,   4.34435097e-17,  -2.17628945e-17,\n",
       "         0.00000000e+00,   1.00000000e+00,   1.00000000e+00,\n",
       "         1.00000000e+00,   1.00000000e+00])"
      ]
     },
     "execution_count": 39,
     "metadata": {},
     "output_type": "execute_result"
    }
   ],
   "source": [
    "# Valores das temperaturas nos 8 vértices (calculadas e especificadas)\n",
    "dirichlet.coefficients"
   ]
  },
  {
   "cell_type": "markdown",
   "metadata": {},
   "source": [
    "Explanation for the number of dofs: \n",
    "\n",
    "    - Dirichlet dofs uses linear continuous element. So, it has one dof per vertice, i.e, 8 dofs. All of them are known.\n",
    "    - Neumann dofs uses constant elements. So, it has one dof per element, i.e., 12 dofs, where 4 are unknowns."
   ]
  },
  {
   "cell_type": "code",
   "execution_count": null,
   "metadata": {
    "collapsed": true
   },
   "outputs": [],
   "source": []
  }
 ],
 "metadata": {
  "anaconda-cloud": {},
  "kernelspec": {
   "display_name": "Python 3",
   "language": "python",
   "name": "python3"
  },
  "language_info": {
   "codemirror_mode": {
    "name": "ipython",
    "version": 3
   },
   "file_extension": ".py",
   "mimetype": "text/x-python",
   "name": "python",
   "nbconvert_exporter": "python",
   "pygments_lexer": "ipython3",
   "version": "3.5.2"
  }
 },
 "nbformat": 4,
 "nbformat_minor": 2
}
